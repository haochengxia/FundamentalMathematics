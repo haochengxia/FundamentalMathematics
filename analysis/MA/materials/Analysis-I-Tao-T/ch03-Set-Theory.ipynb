{
 "cells": [
  {
   "cell_type": "markdown",
   "metadata": {},
   "source": ["# 第3章 集合论\n", "\n", "## 3.1 基础\n", "\n", "**定义3.1.1.（非正式）** 我们定义集合A时任意无序对象的集，例如{3, 8, 5, 2}就是一个集合。如果x是一个对象且在A这个集中，我们称x是A中的一个元素或$x \\in A$，反之我们称$x \\notin A$。举个例子，$3 \\in \\{1, 2, 3, 4, 5\\}$但$7 \\notin \\{1, 2, 3, 4, 5\\}$。\n"]

  }
 ],
 "metadata": {
  "language_info": {
   "name": "python"
  },
  "orig_nbformat": 4
 },
 "nbformat": 4,
 "nbformat_minor": 2
}