{
 "cells": [
  {
   "cell_type": "markdown",
   "metadata": {},
   "source": ["# Analysis I\n", "\n", "读书笔记，对一些重要的定义，定理及其证明作简单记录。\n", "\n", "详细的证明请参见 [Link](https://github.com/ProFatXuanAll/terence-tao-analysis)\n"]

  }
 ],
 "metadata": {
  "language_info": {
   "name": "python"
  },
  "orig_nbformat": 4
 },
 "nbformat": 4,
 "nbformat_minor": 2
}