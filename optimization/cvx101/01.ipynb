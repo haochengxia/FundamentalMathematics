{
 "cells": [
  {
   "cell_type": "markdown",
   "metadata": {},
   "source": [
    "# Lecture01 Introduction\n",
    "\n",
    "## 1.1 Mathmetical Optimization Problem\n",
    "\n",
    "(mathmetical) optimization problem\n",
    "\n",
    "minimize $f_0(x)$\n",
    "\n",
    "subject to $f_i(x) < b_i, i = 1, \\dots, m$\n",
    "\n",
    "**Example** \n",
    "\n",
    "1. Portfolio optimization（资产组合优化）\n",
    "   * variables（优化变量）：不同资产投资额\n",
    "   * constraints（约束）：总预算，每项资产最低最高投资额，最小回报\n",
    "   * objective（目标）：降低总风险（如回报方差、可能的损失等等）\n",
    "\n",
    "2. Device sizing in electronic circuits\n",
    "   * variables: device widths and lengths\n",
    "   * constraints: manufacturing limits, timing requirements, maximum area\n",
    "   * objective: power comsumption\n",
    "\n",
    "3. Data fitting\n",
    "   * variables: model param\n",
    "   * constraints: prior information, param limits\n",
    "   * objective: measure of misfit or prediction"
   ]
  },
  {
   "cell_type": "markdown",
   "metadata": {},
   "source": [
    "## 1.2 Least-squares and linear programming\n",
    "\n",
    "### 1.2.1 Least-squares problems 最小二乘问题\n",
    "\n",
    "minimize $f_0(x) = ||Ax - b||_2^2 = \\sum^k_{i=1}(a_i^Tx - b_i)^2$\n",
    "\n",
    "此处$A \\in R^{k \\times n}$，而$a_i^T$表示A中的行，向量$x \\in R^n$是优化变量。\n",
    "\n",
    "#### 解最小二乘问题\n",
    "\n",
    "最小二乘问题可以被归约为解一组线性方程，\n",
    "\n",
    "$$Ax - b = 0$$\n",
    "\n",
    "$$(A^TA)x = A^Tb$$\n",
    "\n",
    "由此解析解为$x = (A^TA)^{-1}A^Tb$\n"
   ]
  }
 ],
 "metadata": {
  "language_info": {
   "name": "python"
  },
  "orig_nbformat": 4
 },
 "nbformat": 4,
 "nbformat_minor": 2
}
